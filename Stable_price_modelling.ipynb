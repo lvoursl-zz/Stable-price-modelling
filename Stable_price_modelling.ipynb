{
 "cells": [
  {
   "cell_type": "code",
   "execution_count": 331,
   "metadata": {
    "collapsed": true
   },
   "outputs": [],
   "source": [
    "import numpy as np\n",
    "import matplotlib.pyplot as plt\n",
    "from matplotlib.widgets import Slider"
   ]
  },
  {
   "cell_type": "code",
   "execution_count": 332,
   "metadata": {
    "collapsed": true
   },
   "outputs": [],
   "source": [
    "font = {\n",
    "    'family': 'serif',\n",
    "    'color':  'darkred',\n",
    "    'weight': 'normal',\n",
    "    'size': 16,\n",
    "}"
   ]
  },
  {
   "cell_type": "code",
   "execution_count": null,
   "metadata": {
    "collapsed": true
   },
   "outputs": [],
   "source": [
    "starting_price = 20\n",
    "p_min = 10\n",
    "p_max = 30\n",
    "prices = np.linspace(p_min, p_max)\n",
    "\n",
    "supply_k = 2\n",
    "supply_b = 5\n",
    "\n",
    "demand_k = 2\n",
    "demand_b = 100"
   ]
  },
  {
   "cell_type": "code",
   "execution_count": 333,
   "metadata": {
    "collapsed": true
   },
   "outputs": [],
   "source": [
    "# формулы для подсчета количества\n",
    "def supply_quantity_function(p, supply_k, supply_b):\n",
    "    return supply_k * p + supply_b\n",
    "\n",
    "def demand_quantity_function(p, demand_k, demand_b):\n",
    "    return (- demand_k * p + demand_b)\n",
    "\n",
    "# формулы для подсчета цены\n",
    "def supply_price_function(q, supply_k, supply_b):\n",
    "    return ((q - supply_b) / supply_k)\n",
    "\n",
    "def demand_price_function(q, demand_k, demand_b):\n",
    "    return ((demand_b - q) / demand_k)"
   ]
  },
  {
   "cell_type": "code",
   "execution_count": 334,
   "metadata": {
    "collapsed": false
   },
   "outputs": [
    {
     "data": {
      "text/plain": [
       "0"
      ]
     },
     "execution_count": 334,
     "metadata": {},
     "output_type": "execute_result"
    }
   ],
   "source": [
    "supply_k_slider_ax = plt.axes([0.1, 0.15, 0.3, 0.05])\n",
    "supply_k_slider = Slider(supply_k_slider_ax, 'Supply K', 0, 10, supply_k)\n",
    "supply_k_slider.on_changed(update)\n",
    "\n",
    "supply_b_slider_ax = plt.axes([0.1, 0.05, 0.3, 0.05])\n",
    "supply_b_slider = Slider(supply_b_slider_ax, 'Supply B', 0, 70, supply_b)\n",
    "supply_b_slider.on_changed(update)"
   ]
  },
  {
   "cell_type": "code",
   "execution_count": 335,
   "metadata": {
    "collapsed": false
   },
   "outputs": [
    {
     "data": {
      "text/plain": [
       "0"
      ]
     },
     "execution_count": 335,
     "metadata": {},
     "output_type": "execute_result"
    }
   ],
   "source": [
    "demand_k_slider_ax = plt.axes([0.6, 0.15, 0.3, 0.05])\n",
    "demand_k_slider = Slider(demand_k_slider_ax, 'Demand K', 0, 10, demand_k, color='green')\n",
    "demand_k_slider.on_changed(update)\n",
    "\n",
    "demand_b_slider_ax = plt.axes([0.6, 0.05, 0.3, 0.05])\n",
    "demand_b_slider = Slider(demand_b_slider_ax, 'Demand B', 0, 200, demand_b, color='green')\n",
    "demand_b_slider.on_changed(update)"
   ]
  },
  {
   "cell_type": "code",
   "execution_count": 336,
   "metadata": {
    "collapsed": true
   },
   "outputs": [],
   "source": [
    "def update(val):\n",
    "    plt.cla()\n",
    "    draw(supply_k_slider.val, supply_b_slider.val, demand_k_slider.val, demand_b_slider.val)"
   ]
  },
  {
   "cell_type": "code",
   "execution_count": 338,
   "metadata": {
    "collapsed": false
   },
   "outputs": [],
   "source": [
    "def draw(supply_k, supply_b, demand_k, demand_b):\n",
    "    supply_line, = plt.plot(supply_quantity_function(prices, supply_k, supply_b), prices,'-', linewidth = 4, label='Supply')\n",
    "    demand_line, = plt.plot(demand_quantity_function(prices, demand_k, demand_b), prices, '-', linewidth = 4, label='Demand')\n",
    "\n",
    "    q1 = demand_quantity_function(starting_price, demand_k, demand_b)\n",
    "    q2 = supply_quantity_function(starting_price, supply_k, supply_b)\n",
    "    \n",
    "    plt.plot([q1, q2], [starting_price, starting_price], '-', linewidth = 1)\n",
    "    q = q2\n",
    "    p = starting_price\n",
    "\n",
    "    i = 1\n",
    "    while((p > 0) and (q > 0) and (p >= p_min) and (p <= p_max) and (i<=30)):\n",
    "        if i % 2 == 0 :\n",
    "            old_q = q\n",
    "            q = supply_quantity_function(p, supply_k, supply_b)\n",
    "            plt.plot([old_q, q], [p, p], '-', linewidth = 1)\n",
    "        else:\n",
    "            old_p = p\n",
    "            p = demand_price_function(q, demand_k, demand_b)\n",
    "            plt.plot([q, q], [old_p, p], '-', linewidth = 1)\n",
    "        i = i + 1\n",
    "    plt.xlabel('Quantity', fontdict=font)\n",
    "    plt.ylabel('Price', fontdict=font)\n",
    "    plt.legend()"
   ]
  },
  {
   "cell_type": "code",
   "execution_count": 339,
   "metadata": {
    "collapsed": false
   },
   "outputs": [],
   "source": [
    "global_xfreq = plt.axes([0.1, 0.3, 0.85, 0.65])\n",
    "\n",
    "draw(supply_k, supply_b, demand_k, demand_b)\n",
    "\n",
    "plt.show()"
   ]
  },
  {
   "cell_type": "code",
   "execution_count": null,
   "metadata": {
    "collapsed": true
   },
   "outputs": [],
   "source": []
  },
  {
   "cell_type": "code",
   "execution_count": null,
   "metadata": {
    "collapsed": false
   },
   "outputs": [],
   "source": []
  },
  {
   "cell_type": "code",
   "execution_count": null,
   "metadata": {
    "collapsed": true
   },
   "outputs": [],
   "source": []
  }
 ],
 "metadata": {
  "kernelspec": {
   "display_name": "Python 3",
   "language": "python",
   "name": "python3"
  },
  "language_info": {
   "codemirror_mode": {
    "name": "ipython",
    "version": 3
   },
   "file_extension": ".py",
   "mimetype": "text/x-python",
   "name": "python",
   "nbconvert_exporter": "python",
   "pygments_lexer": "ipython3",
   "version": "3.5.2"
  }
 },
 "nbformat": 4,
 "nbformat_minor": 0
}
