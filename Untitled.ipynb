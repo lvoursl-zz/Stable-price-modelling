{
 "cells": [
  {
   "cell_type": "code",
   "execution_count": 7,
   "metadata": {
    "collapsed": false
   },
   "outputs": [
    {
     "name": "stdout",
     "output_type": "stream",
     "text": [
      "[60, 45] [20, 20]\n"
     ]
    }
   ],
   "source": [
    "import numpy as np\n",
    "import matplotlib.pyplot as plt\n",
    "\n",
    "\n",
    "# формулы для подсчета количества\n",
    "def supply_quantity_function(p):\n",
    "    return supply_k * p + supply_b\n",
    "\n",
    "def demand_quantity_function(p):\n",
    "    return (- demand_k * p + demand_b)\n",
    "\n",
    "\n",
    "# формулы для подсчета цены\n",
    "def demand_price_function(q):\n",
    "    return ((demand_b - q) / demand_k)\n",
    "\n",
    "def supply_price_function(q):\n",
    "    return ((q - supply_b) / supply_k)\n",
    "\n",
    "starting_price = 20\n",
    "p_min=10\n",
    "p_max=30\n",
    "prices = np.linspace(p_min, p_max)\n",
    "\n",
    "supply_k = 2\n",
    "supply_b = 5\n",
    "\n",
    "demand_k = 2\n",
    "demand_b = 100\n",
    "\n",
    "supply_line, = plt.plot(supply_quantity_function(prices), prices,'-', linewidth = 4, label='Supply')\n",
    "demand_line, = plt.plot(demand_quantity_function(prices), prices, '-', linewidth = 4, label='Demand')\n",
    "\n",
    "font = {'family': 'serif',\n",
    "        'color':  'darkred',\n",
    "        'weight': 'normal',\n",
    "        'size': 16,\n",
    "        }\n",
    "\n",
    "\n",
    "q1 = demand_quantity_function(starting_price)\n",
    "q2 = supply_quantity_function(starting_price)\n",
    "\n",
    "plt.plot([q1, q2], [starting_price, starting_price], '-', linewidth = 1)\n",
    "print([q1, q2], [starting_price, starting_price])\n",
    "q = q2\n",
    "p = starting_price\n",
    "\n",
    "i = 1\n",
    "while((p > 0) and (q > 0) and (p >= p_min) and (p <= p_max) and (i<=30)):\n",
    "    if i % 2 == 0 :\n",
    "        old_q = q\n",
    "        q = supply_quantity_function(p)\n",
    "        plt.plot([old_q, q], [p, p], '-', linewidth = 1)\n",
    "        ''', label = (\"qline\" + str(i))'''\n",
    "    else:\n",
    "        old_p = p\n",
    "        p = demand_price_function(q)\n",
    "        plt.plot([q, q], [old_p, p], '-', linewidth = 1)\n",
    "        ''', label = (\"qline\" + str(i))'''\n",
    "    i = i + 1\n",
    "\n",
    "    \n",
    "plt.xlabel('Quantity', fontdict=font)\n",
    "plt.ylabel('Price', fontdict=font)\n",
    "plt.legend()\n",
    "\n",
    "plt.show()"
   ]
  },
  {
   "cell_type": "code",
   "execution_count": null,
   "metadata": {
    "collapsed": true
   },
   "outputs": [],
   "source": []
  },
  {
   "cell_type": "code",
   "execution_count": null,
   "metadata": {
    "collapsed": true
   },
   "outputs": [],
   "source": []
  },
  {
   "cell_type": "code",
   "execution_count": null,
   "metadata": {
    "collapsed": true
   },
   "outputs": [],
   "source": []
  }
 ],
 "metadata": {
  "kernelspec": {
   "display_name": "Python 3",
   "language": "python",
   "name": "python3"
  },
  "language_info": {
   "codemirror_mode": {
    "name": "ipython",
    "version": 3
   },
   "file_extension": ".py",
   "mimetype": "text/x-python",
   "name": "python",
   "nbconvert_exporter": "python",
   "pygments_lexer": "ipython3",
   "version": "3.4.4"
  }
 },
 "nbformat": 4,
 "nbformat_minor": 0
}
