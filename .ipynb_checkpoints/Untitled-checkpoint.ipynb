{
 "cells": [
  {
   "cell_type": "code",
   "execution_count": 50,
   "metadata": {
    "collapsed": false
   },
   "outputs": [
    {
     "name": "stdout",
     "output_type": "stream",
     "text": [
      "[60, 45] [20, 20]\n",
      "64.2857142857\n",
      "64.2857142857\n",
      "75.0\n",
      "75.0\n"
     ]
    }
   ],
   "source": [
    "import numpy as np\n",
    "import matplotlib.pyplot as plt\n",
    "from matplotlib.widgets import Slider\n",
    "\n",
    "# формулы для подсчета количества\n",
    "def supply_quantity_function(p):\n",
    "    return supply_k * p + supply_b\n",
    "\n",
    "def demand_quantity_function(p):\n",
    "    return (- demand_k * p + demand_b)\n",
    "\n",
    "\n",
    "# формулы для подсчета цены\n",
    "def demand_price_function(q):\n",
    "    return ((demand_b - q) / demand_k)\n",
    "\n",
    "def supply_price_function(q):\n",
    "    return ((q - supply_b) / supply_k)\n",
    "\n",
    "def update(val):\n",
    "    # use 4 val\n",
    "    print(supply_k_slider.val)\n",
    "\n",
    "def draw():\n",
    "    xfreq = plt.axes([0.1, 0.3, 0.85, 0.65], axisbg=axcolor)\n",
    "\n",
    "    supply_line, = plt.plot(supply_quantity_function(prices), prices,'-', linewidth = 4, label='Supply')\n",
    "    demand_line, = plt.plot(demand_quantity_function(prices), prices, '-', linewidth = 4, label='Demand')\n",
    "\n",
    "    font = {\n",
    "        'family': 'serif',\n",
    "        'color':  'darkred',\n",
    "        'weight': 'normal',\n",
    "        'size': 16,\n",
    "    }\n",
    "\n",
    "    q1 = demand_quantity_function(starting_price)\n",
    "    q2 = supply_quantity_function(starting_price)\n",
    "\n",
    "    plt.plot([q1, q2], [starting_price, starting_price], '-', linewidth = 1)\n",
    "    q = q2\n",
    "    p = starting_price\n",
    "\n",
    "    i = 1\n",
    "    while((p > 0) and (q > 0) and (p >= p_min) and (p <= p_max) and (i<=30)):\n",
    "        if i % 2 == 0 :\n",
    "            old_q = q\n",
    "            q = supply_quantity_function(p)\n",
    "            plt.plot([old_q, q], [p, p], '-', linewidth = 1)\n",
    "        else:\n",
    "            old_p = p\n",
    "            p = demand_price_function(q)\n",
    "            plt.plot([q, q], [old_p, p], '-', linewidth = 1)\n",
    "        i = i + 1\n",
    "\n",
    "starting_price = 20\n",
    "p_min=10\n",
    "p_max=30\n",
    "prices = np.linspace(p_min, p_max)\n",
    "\n",
    "supply_k = 2\n",
    "supply_b = 5\n",
    "\n",
    "demand_k = 2\n",
    "demand_b = 100\n",
    "\n",
    "axfreq = plt.axes([0.1, 0.05, 0.35, 0.05], axisbg=axcolor)\n",
    "supply_k_slider = Slider(axfreq, 'Supply K', 0, 100, 2)\n",
    "supply_k_slider.on_changed(update)\n",
    "    \n",
    "plt.xlabel('Quantity', fontdict=font)\n",
    "plt.ylabel('Price', fontdict=font)\n",
    "plt.legend()\n",
    "\n",
    "plt.show()"
   ]
  },
  {
   "cell_type": "code",
   "execution_count": null,
   "metadata": {
    "collapsed": true
   },
   "outputs": [],
   "source": []
  },
  {
   "cell_type": "code",
   "execution_count": null,
   "metadata": {
    "collapsed": true
   },
   "outputs": [],
   "source": []
  },
  {
   "cell_type": "code",
   "execution_count": 5,
   "metadata": {
    "collapsed": false
   },
   "outputs": [
    {
     "name": "stdout",
     "output_type": "stream",
     "text": [
      "5.83533653846\n",
      "6.85865384615\n",
      "8.40552884615\n"
     ]
    }
   ],
   "source": [
    "import numpy as np\n",
    "import matplotlib.pyplot as plt\n",
    "from matplotlib.widgets import Slider, Button, RadioButtons\n",
    "\n",
    "fig, ax = plt.subplots()\n",
    "plt.subplots_adjust(left=0.25, bottom=0.25)\n",
    "t = np.arange(0.0, 1.0, 0.001)\n",
    "a0 = 5\n",
    "f0 = 3\n",
    "s = a0*np.sin(2*np.pi*f0*t)\n",
    "l, = plt.plot(t, s, lw=2, color='red')\n",
    "plt.axis([0, 1, -10, 10])\n",
    "\n",
    "axcolor = 'lightgoldenrodyellow'\n",
    "axfreq = plt.axes([0.25, 0.1, 0.65, 0.03], axisbg=axcolor)\n",
    "axamp = plt.axes([0.25, 0.15, 0.65, 0.03], axisbg=axcolor)\n",
    "\n",
    "sfreq = Slider(axfreq, 'Freq', 0.1, 30.0, valinit=f0)\n",
    "samp = Slider(axamp, 'Amp', 0.1, 10.0, valinit=a0)\n",
    "\n",
    "\n",
    "def update(val):\n",
    "    amp = samp.val\n",
    "    print(amp)\n",
    "    freq = sfreq.val\n",
    "    l.set_ydata(amp*np.sin(2*np.pi*freq*t))\n",
    "    fig.canvas.draw_idle()\n",
    "sfreq.on_changed(update)\n",
    "samp.on_changed(update)\n",
    "\n",
    "resetax = plt.axes([0.8, 0.025, 0.1, 0.04])\n",
    "button = Button(resetax, 'Reset', color=axcolor, hovercolor='0.975')\n",
    "\n",
    "\n",
    "def reset(event):\n",
    "    sfreq.reset()\n",
    "    samp.reset()\n",
    "button.on_clicked(reset)\n",
    "\n",
    "rax = plt.axes([0.025, 0.5, 0.15, 0.15], axisbg=axcolor)\n",
    "radio = RadioButtons(rax, ('red', 'blue', 'green'), active=0)\n",
    "\n",
    "\n",
    "def colorfunc(label):\n",
    "    l.set_color(label)\n",
    "    fig.canvas.draw_idle()\n",
    "radio.on_clicked(colorfunc)\n",
    "\n",
    "plt.show()"
   ]
  },
  {
   "cell_type": "code",
   "execution_count": null,
   "metadata": {
    "collapsed": true
   },
   "outputs": [],
   "source": []
  }
 ],
 "metadata": {
  "kernelspec": {
   "display_name": "Python 3",
   "language": "python",
   "name": "python3"
  },
  "language_info": {
   "codemirror_mode": {
    "name": "ipython",
    "version": 3
   },
   "file_extension": ".py",
   "mimetype": "text/x-python",
   "name": "python",
   "nbconvert_exporter": "python",
   "pygments_lexer": "ipython3",
   "version": "3.5.2"
  }
 },
 "nbformat": 4,
 "nbformat_minor": 0
}
